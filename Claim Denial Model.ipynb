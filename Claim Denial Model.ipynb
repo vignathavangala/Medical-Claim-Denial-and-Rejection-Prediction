{
 "cells": [
  {
   "cell_type": "markdown",
   "metadata": {},
   "source": [
    "# Import Libraries"
   ]
  },
  {
   "cell_type": "code",
   "execution_count": 2,
   "metadata": {},
   "outputs": [],
   "source": [
    "#Importing Libraries\n",
    "import numpy as np\n",
    "import pandas as pd\n",
    "import matplotlib.pyplot as plt\n",
    "import seaborn as sns\n",
    "from sklearn.model_selection import train_test_split\n",
    "from sklearn.preprocessing import StandardScaler\n",
    "from sklearn.ensemble import RandomForestClassifier\n",
    "from sklearn.metrics import confusion_matrix,classification_report\n",
    "from sklearn.preprocessing import LabelEncoder\n",
    "from sklearn.preprocessing import StandardScaler"
   ]
  },
  {
   "cell_type": "markdown",
   "metadata": {},
   "source": [
    "# Load Data"
   ]
  },
  {
   "cell_type": "code",
   "execution_count": 3,
   "metadata": {},
   "outputs": [
    {
     "data": {
      "text/html": [
       "<div>\n",
       "<style scoped>\n",
       "    .dataframe tbody tr th:only-of-type {\n",
       "        vertical-align: middle;\n",
       "    }\n",
       "\n",
       "    .dataframe tbody tr th {\n",
       "        vertical-align: top;\n",
       "    }\n",
       "\n",
       "    .dataframe thead th {\n",
       "        text-align: right;\n",
       "    }\n",
       "</style>\n",
       "<table border=\"1\" class=\"dataframe\">\n",
       "  <thead>\n",
       "    <tr style=\"text-align: right;\">\n",
       "      <th></th>\n",
       "      <th>provider_type</th>\n",
       "      <th>provider_type2</th>\n",
       "      <th>line_of_business</th>\n",
       "      <th>age</th>\n",
       "      <th>gender</th>\n",
       "      <th>claim_sub_type</th>\n",
       "      <th>network_indicator1</th>\n",
       "      <th>place_of_service</th>\n",
       "      <th>ICD_10</th>\n",
       "      <th>CPT</th>\n",
       "      <th>amount_on_claim</th>\n",
       "      <th>status</th>\n",
       "    </tr>\n",
       "  </thead>\n",
       "  <tbody>\n",
       "    <tr>\n",
       "      <th>0</th>\n",
       "      <td>Facility</td>\n",
       "      <td>HOSP</td>\n",
       "      <td>Medicaid</td>\n",
       "      <td>25</td>\n",
       "      <td>F</td>\n",
       "      <td>Hospital</td>\n",
       "      <td>Participating</td>\n",
       "      <td>Others</td>\n",
       "      <td>Musculoskeletal_diseases</td>\n",
       "      <td>CPT_I</td>\n",
       "      <td>20.50</td>\n",
       "      <td>Fully Denied</td>\n",
       "    </tr>\n",
       "    <tr>\n",
       "      <th>1</th>\n",
       "      <td>Facility</td>\n",
       "      <td>HOSP</td>\n",
       "      <td>Medicaid</td>\n",
       "      <td>25</td>\n",
       "      <td>F</td>\n",
       "      <td>Hospital</td>\n",
       "      <td>Participating</td>\n",
       "      <td>Others</td>\n",
       "      <td>Musculoskeletal_diseases</td>\n",
       "      <td>HCPCS_modifiers_II</td>\n",
       "      <td>9.00</td>\n",
       "      <td>Fully Denied</td>\n",
       "    </tr>\n",
       "    <tr>\n",
       "      <th>2</th>\n",
       "      <td>Facility</td>\n",
       "      <td>HOSP</td>\n",
       "      <td>Medicaid</td>\n",
       "      <td>22</td>\n",
       "      <td>M</td>\n",
       "      <td>Hospital</td>\n",
       "      <td>Participating</td>\n",
       "      <td>Others</td>\n",
       "      <td>Parasitic_diseases</td>\n",
       "      <td>HCPCS_modifiers_II</td>\n",
       "      <td>397.00</td>\n",
       "      <td>Fully Denied</td>\n",
       "    </tr>\n",
       "    <tr>\n",
       "      <th>3</th>\n",
       "      <td>Facility</td>\n",
       "      <td>HOSP</td>\n",
       "      <td>Medicaid</td>\n",
       "      <td>55</td>\n",
       "      <td>F</td>\n",
       "      <td>Hospital</td>\n",
       "      <td>Participating</td>\n",
       "      <td>Others</td>\n",
       "      <td>Ear_diseases</td>\n",
       "      <td>HCPCS_modifiers_II</td>\n",
       "      <td>445.90</td>\n",
       "      <td>Fully Denied</td>\n",
       "    </tr>\n",
       "    <tr>\n",
       "      <th>4</th>\n",
       "      <td>Facility</td>\n",
       "      <td>HOSP</td>\n",
       "      <td>Medicaid</td>\n",
       "      <td>63</td>\n",
       "      <td>F</td>\n",
       "      <td>Hospital</td>\n",
       "      <td>Participating</td>\n",
       "      <td>Others</td>\n",
       "      <td>Circulatory_diseases</td>\n",
       "      <td>Others</td>\n",
       "      <td>82.82</td>\n",
       "      <td>Fully Denied</td>\n",
       "    </tr>\n",
       "    <tr>\n",
       "      <th>...</th>\n",
       "      <td>...</td>\n",
       "      <td>...</td>\n",
       "      <td>...</td>\n",
       "      <td>...</td>\n",
       "      <td>...</td>\n",
       "      <td>...</td>\n",
       "      <td>...</td>\n",
       "      <td>...</td>\n",
       "      <td>...</td>\n",
       "      <td>...</td>\n",
       "      <td>...</td>\n",
       "      <td>...</td>\n",
       "    </tr>\n",
       "    <tr>\n",
       "      <th>857651</th>\n",
       "      <td>Facility</td>\n",
       "      <td>HOSP</td>\n",
       "      <td>Medicaid</td>\n",
       "      <td>27</td>\n",
       "      <td>M</td>\n",
       "      <td>Hospital</td>\n",
       "      <td>Participating</td>\n",
       "      <td>Others</td>\n",
       "      <td>Musculoskeletal_diseases</td>\n",
       "      <td>Others</td>\n",
       "      <td>501.00</td>\n",
       "      <td>Partially Denied</td>\n",
       "    </tr>\n",
       "    <tr>\n",
       "      <th>857652</th>\n",
       "      <td>Facility</td>\n",
       "      <td>HOSP</td>\n",
       "      <td>Medicaid</td>\n",
       "      <td>27</td>\n",
       "      <td>M</td>\n",
       "      <td>Hospital</td>\n",
       "      <td>Participating</td>\n",
       "      <td>Others</td>\n",
       "      <td>Musculoskeletal_diseases</td>\n",
       "      <td>CPT_I</td>\n",
       "      <td>23.00</td>\n",
       "      <td>Partially Denied</td>\n",
       "    </tr>\n",
       "    <tr>\n",
       "      <th>857653</th>\n",
       "      <td>Facility</td>\n",
       "      <td>HOSP</td>\n",
       "      <td>Medicaid</td>\n",
       "      <td>27</td>\n",
       "      <td>M</td>\n",
       "      <td>Hospital</td>\n",
       "      <td>Participating</td>\n",
       "      <td>Others</td>\n",
       "      <td>Musculoskeletal_diseases</td>\n",
       "      <td>CPT_I</td>\n",
       "      <td>42.00</td>\n",
       "      <td>Partially Denied</td>\n",
       "    </tr>\n",
       "    <tr>\n",
       "      <th>857654</th>\n",
       "      <td>Facility</td>\n",
       "      <td>HOSP</td>\n",
       "      <td>Medicaid</td>\n",
       "      <td>27</td>\n",
       "      <td>M</td>\n",
       "      <td>Hospital</td>\n",
       "      <td>Participating</td>\n",
       "      <td>Others</td>\n",
       "      <td>Musculoskeletal_diseases</td>\n",
       "      <td>CPT_I</td>\n",
       "      <td>87.00</td>\n",
       "      <td>Partially Denied</td>\n",
       "    </tr>\n",
       "    <tr>\n",
       "      <th>857655</th>\n",
       "      <td>Facility</td>\n",
       "      <td>HOSP</td>\n",
       "      <td>Medicaid</td>\n",
       "      <td>27</td>\n",
       "      <td>M</td>\n",
       "      <td>Hospital</td>\n",
       "      <td>Participating</td>\n",
       "      <td>Others</td>\n",
       "      <td>Musculoskeletal_diseases</td>\n",
       "      <td>CPT_I</td>\n",
       "      <td>41.00</td>\n",
       "      <td>Partially Denied</td>\n",
       "    </tr>\n",
       "  </tbody>\n",
       "</table>\n",
       "<p>857656 rows × 12 columns</p>\n",
       "</div>"
      ],
      "text/plain": [
       "       provider_type provider_type2 line_of_business  age gender  \\\n",
       "0           Facility           HOSP         Medicaid   25      F   \n",
       "1           Facility           HOSP         Medicaid   25      F   \n",
       "2           Facility           HOSP         Medicaid   22      M   \n",
       "3           Facility           HOSP         Medicaid   55      F   \n",
       "4           Facility           HOSP         Medicaid   63      F   \n",
       "...              ...            ...              ...  ...    ...   \n",
       "857651      Facility           HOSP         Medicaid   27      M   \n",
       "857652      Facility           HOSP         Medicaid   27      M   \n",
       "857653      Facility           HOSP         Medicaid   27      M   \n",
       "857654      Facility           HOSP         Medicaid   27      M   \n",
       "857655      Facility           HOSP         Medicaid   27      M   \n",
       "\n",
       "       claim_sub_type network_indicator1 place_of_service  \\\n",
       "0            Hospital      Participating           Others   \n",
       "1            Hospital      Participating           Others   \n",
       "2            Hospital      Participating           Others   \n",
       "3            Hospital      Participating           Others   \n",
       "4            Hospital      Participating           Others   \n",
       "...               ...                ...              ...   \n",
       "857651       Hospital      Participating           Others   \n",
       "857652       Hospital      Participating           Others   \n",
       "857653       Hospital      Participating           Others   \n",
       "857654       Hospital      Participating           Others   \n",
       "857655       Hospital      Participating           Others   \n",
       "\n",
       "                          ICD_10                 CPT  amount_on_claim  \\\n",
       "0       Musculoskeletal_diseases               CPT_I            20.50   \n",
       "1       Musculoskeletal_diseases  HCPCS_modifiers_II             9.00   \n",
       "2             Parasitic_diseases  HCPCS_modifiers_II           397.00   \n",
       "3                   Ear_diseases  HCPCS_modifiers_II           445.90   \n",
       "4           Circulatory_diseases              Others            82.82   \n",
       "...                          ...                 ...              ...   \n",
       "857651  Musculoskeletal_diseases              Others           501.00   \n",
       "857652  Musculoskeletal_diseases               CPT_I            23.00   \n",
       "857653  Musculoskeletal_diseases               CPT_I            42.00   \n",
       "857654  Musculoskeletal_diseases               CPT_I            87.00   \n",
       "857655  Musculoskeletal_diseases               CPT_I            41.00   \n",
       "\n",
       "                  status  \n",
       "0           Fully Denied  \n",
       "1           Fully Denied  \n",
       "2           Fully Denied  \n",
       "3           Fully Denied  \n",
       "4           Fully Denied  \n",
       "...                  ...  \n",
       "857651  Partially Denied  \n",
       "857652  Partially Denied  \n",
       "857653  Partially Denied  \n",
       "857654  Partially Denied  \n",
       "857655  Partially Denied  \n",
       "\n",
       "[857656 rows x 12 columns]"
      ]
     },
     "execution_count": 3,
     "metadata": {},
     "output_type": "execute_result"
    }
   ],
   "source": [
    "data = pd.read_csv('data_cleaned.csv')\n",
    "data"
   ]
  },
  {
   "cell_type": "code",
   "execution_count": 4,
   "metadata": {},
   "outputs": [],
   "source": [
    "categorical_features = ['provider_type','provider_type2','line_of_business','age','gender','claim_sub_type',\n",
    "                        'network_indicator1','place_of_service','ICD_10','CPT']\n",
    "\n",
    "numerical_features    = ['amount_on_claim']\n",
    "\n",
    "target_feature        = ['status']\n"
   ]
  },
  {
   "cell_type": "markdown",
   "metadata": {},
   "source": [
    "# Encode categorical features using One Hot Encoder"
   ]
  },
  {
   "cell_type": "code",
   "execution_count": 11,
   "metadata": {},
   "outputs": [
    {
     "data": {
      "text/html": [
       "<div>\n",
       "<style scoped>\n",
       "    .dataframe tbody tr th:only-of-type {\n",
       "        vertical-align: middle;\n",
       "    }\n",
       "\n",
       "    .dataframe tbody tr th {\n",
       "        vertical-align: top;\n",
       "    }\n",
       "\n",
       "    .dataframe thead th {\n",
       "        text-align: right;\n",
       "    }\n",
       "</style>\n",
       "<table border=\"1\" class=\"dataframe\">\n",
       "  <thead>\n",
       "    <tr style=\"text-align: right;\">\n",
       "      <th></th>\n",
       "      <th>amount_on_claim</th>\n",
       "      <th>status</th>\n",
       "      <th>provider_type_Facility</th>\n",
       "      <th>provider_type_Practioner</th>\n",
       "      <th>provider_type2_BH</th>\n",
       "      <th>provider_type2_DAYS</th>\n",
       "      <th>provider_type2_DME</th>\n",
       "      <th>provider_type2_DO</th>\n",
       "      <th>provider_type2_HHA</th>\n",
       "      <th>provider_type2_HOSP</th>\n",
       "      <th>...</th>\n",
       "      <th>ICD_10_Parasitic_diseases</th>\n",
       "      <th>ICD_10_Perinatal_period</th>\n",
       "      <th>ICD_10_Pregnancy_childbirth</th>\n",
       "      <th>ICD_10_Respiratory_diseases</th>\n",
       "      <th>ICD_10_Skin_diseases</th>\n",
       "      <th>CPT_CPT_I</th>\n",
       "      <th>CPT_CPT_II</th>\n",
       "      <th>CPT_HCPCS_modifiers</th>\n",
       "      <th>CPT_HCPCS_modifiers_II</th>\n",
       "      <th>CPT_Others</th>\n",
       "    </tr>\n",
       "  </thead>\n",
       "  <tbody>\n",
       "    <tr>\n",
       "      <th>0</th>\n",
       "      <td>20.50</td>\n",
       "      <td>Fully Denied</td>\n",
       "      <td>1</td>\n",
       "      <td>0</td>\n",
       "      <td>0</td>\n",
       "      <td>0</td>\n",
       "      <td>0</td>\n",
       "      <td>0</td>\n",
       "      <td>0</td>\n",
       "      <td>1</td>\n",
       "      <td>...</td>\n",
       "      <td>0</td>\n",
       "      <td>0</td>\n",
       "      <td>0</td>\n",
       "      <td>0</td>\n",
       "      <td>0</td>\n",
       "      <td>1</td>\n",
       "      <td>0</td>\n",
       "      <td>0</td>\n",
       "      <td>0</td>\n",
       "      <td>0</td>\n",
       "    </tr>\n",
       "    <tr>\n",
       "      <th>1</th>\n",
       "      <td>9.00</td>\n",
       "      <td>Fully Denied</td>\n",
       "      <td>1</td>\n",
       "      <td>0</td>\n",
       "      <td>0</td>\n",
       "      <td>0</td>\n",
       "      <td>0</td>\n",
       "      <td>0</td>\n",
       "      <td>0</td>\n",
       "      <td>1</td>\n",
       "      <td>...</td>\n",
       "      <td>0</td>\n",
       "      <td>0</td>\n",
       "      <td>0</td>\n",
       "      <td>0</td>\n",
       "      <td>0</td>\n",
       "      <td>0</td>\n",
       "      <td>0</td>\n",
       "      <td>0</td>\n",
       "      <td>1</td>\n",
       "      <td>0</td>\n",
       "    </tr>\n",
       "    <tr>\n",
       "      <th>2</th>\n",
       "      <td>397.00</td>\n",
       "      <td>Fully Denied</td>\n",
       "      <td>1</td>\n",
       "      <td>0</td>\n",
       "      <td>0</td>\n",
       "      <td>0</td>\n",
       "      <td>0</td>\n",
       "      <td>0</td>\n",
       "      <td>0</td>\n",
       "      <td>1</td>\n",
       "      <td>...</td>\n",
       "      <td>1</td>\n",
       "      <td>0</td>\n",
       "      <td>0</td>\n",
       "      <td>0</td>\n",
       "      <td>0</td>\n",
       "      <td>0</td>\n",
       "      <td>0</td>\n",
       "      <td>0</td>\n",
       "      <td>1</td>\n",
       "      <td>0</td>\n",
       "    </tr>\n",
       "    <tr>\n",
       "      <th>3</th>\n",
       "      <td>445.90</td>\n",
       "      <td>Fully Denied</td>\n",
       "      <td>1</td>\n",
       "      <td>0</td>\n",
       "      <td>0</td>\n",
       "      <td>0</td>\n",
       "      <td>0</td>\n",
       "      <td>0</td>\n",
       "      <td>0</td>\n",
       "      <td>1</td>\n",
       "      <td>...</td>\n",
       "      <td>0</td>\n",
       "      <td>0</td>\n",
       "      <td>0</td>\n",
       "      <td>0</td>\n",
       "      <td>0</td>\n",
       "      <td>0</td>\n",
       "      <td>0</td>\n",
       "      <td>0</td>\n",
       "      <td>1</td>\n",
       "      <td>0</td>\n",
       "    </tr>\n",
       "    <tr>\n",
       "      <th>4</th>\n",
       "      <td>82.82</td>\n",
       "      <td>Fully Denied</td>\n",
       "      <td>1</td>\n",
       "      <td>0</td>\n",
       "      <td>0</td>\n",
       "      <td>0</td>\n",
       "      <td>0</td>\n",
       "      <td>0</td>\n",
       "      <td>0</td>\n",
       "      <td>1</td>\n",
       "      <td>...</td>\n",
       "      <td>0</td>\n",
       "      <td>0</td>\n",
       "      <td>0</td>\n",
       "      <td>0</td>\n",
       "      <td>0</td>\n",
       "      <td>0</td>\n",
       "      <td>0</td>\n",
       "      <td>0</td>\n",
       "      <td>0</td>\n",
       "      <td>1</td>\n",
       "    </tr>\n",
       "    <tr>\n",
       "      <th>...</th>\n",
       "      <td>...</td>\n",
       "      <td>...</td>\n",
       "      <td>...</td>\n",
       "      <td>...</td>\n",
       "      <td>...</td>\n",
       "      <td>...</td>\n",
       "      <td>...</td>\n",
       "      <td>...</td>\n",
       "      <td>...</td>\n",
       "      <td>...</td>\n",
       "      <td>...</td>\n",
       "      <td>...</td>\n",
       "      <td>...</td>\n",
       "      <td>...</td>\n",
       "      <td>...</td>\n",
       "      <td>...</td>\n",
       "      <td>...</td>\n",
       "      <td>...</td>\n",
       "      <td>...</td>\n",
       "      <td>...</td>\n",
       "      <td>...</td>\n",
       "    </tr>\n",
       "    <tr>\n",
       "      <th>857651</th>\n",
       "      <td>501.00</td>\n",
       "      <td>Partially Denied</td>\n",
       "      <td>1</td>\n",
       "      <td>0</td>\n",
       "      <td>0</td>\n",
       "      <td>0</td>\n",
       "      <td>0</td>\n",
       "      <td>0</td>\n",
       "      <td>0</td>\n",
       "      <td>1</td>\n",
       "      <td>...</td>\n",
       "      <td>0</td>\n",
       "      <td>0</td>\n",
       "      <td>0</td>\n",
       "      <td>0</td>\n",
       "      <td>0</td>\n",
       "      <td>0</td>\n",
       "      <td>0</td>\n",
       "      <td>0</td>\n",
       "      <td>0</td>\n",
       "      <td>1</td>\n",
       "    </tr>\n",
       "    <tr>\n",
       "      <th>857652</th>\n",
       "      <td>23.00</td>\n",
       "      <td>Partially Denied</td>\n",
       "      <td>1</td>\n",
       "      <td>0</td>\n",
       "      <td>0</td>\n",
       "      <td>0</td>\n",
       "      <td>0</td>\n",
       "      <td>0</td>\n",
       "      <td>0</td>\n",
       "      <td>1</td>\n",
       "      <td>...</td>\n",
       "      <td>0</td>\n",
       "      <td>0</td>\n",
       "      <td>0</td>\n",
       "      <td>0</td>\n",
       "      <td>0</td>\n",
       "      <td>1</td>\n",
       "      <td>0</td>\n",
       "      <td>0</td>\n",
       "      <td>0</td>\n",
       "      <td>0</td>\n",
       "    </tr>\n",
       "    <tr>\n",
       "      <th>857653</th>\n",
       "      <td>42.00</td>\n",
       "      <td>Partially Denied</td>\n",
       "      <td>1</td>\n",
       "      <td>0</td>\n",
       "      <td>0</td>\n",
       "      <td>0</td>\n",
       "      <td>0</td>\n",
       "      <td>0</td>\n",
       "      <td>0</td>\n",
       "      <td>1</td>\n",
       "      <td>...</td>\n",
       "      <td>0</td>\n",
       "      <td>0</td>\n",
       "      <td>0</td>\n",
       "      <td>0</td>\n",
       "      <td>0</td>\n",
       "      <td>1</td>\n",
       "      <td>0</td>\n",
       "      <td>0</td>\n",
       "      <td>0</td>\n",
       "      <td>0</td>\n",
       "    </tr>\n",
       "    <tr>\n",
       "      <th>857654</th>\n",
       "      <td>87.00</td>\n",
       "      <td>Partially Denied</td>\n",
       "      <td>1</td>\n",
       "      <td>0</td>\n",
       "      <td>0</td>\n",
       "      <td>0</td>\n",
       "      <td>0</td>\n",
       "      <td>0</td>\n",
       "      <td>0</td>\n",
       "      <td>1</td>\n",
       "      <td>...</td>\n",
       "      <td>0</td>\n",
       "      <td>0</td>\n",
       "      <td>0</td>\n",
       "      <td>0</td>\n",
       "      <td>0</td>\n",
       "      <td>1</td>\n",
       "      <td>0</td>\n",
       "      <td>0</td>\n",
       "      <td>0</td>\n",
       "      <td>0</td>\n",
       "    </tr>\n",
       "    <tr>\n",
       "      <th>857655</th>\n",
       "      <td>41.00</td>\n",
       "      <td>Partially Denied</td>\n",
       "      <td>1</td>\n",
       "      <td>0</td>\n",
       "      <td>0</td>\n",
       "      <td>0</td>\n",
       "      <td>0</td>\n",
       "      <td>0</td>\n",
       "      <td>0</td>\n",
       "      <td>1</td>\n",
       "      <td>...</td>\n",
       "      <td>0</td>\n",
       "      <td>0</td>\n",
       "      <td>0</td>\n",
       "      <td>0</td>\n",
       "      <td>0</td>\n",
       "      <td>1</td>\n",
       "      <td>0</td>\n",
       "      <td>0</td>\n",
       "      <td>0</td>\n",
       "      <td>0</td>\n",
       "    </tr>\n",
       "  </tbody>\n",
       "</table>\n",
       "<p>857656 rows × 171 columns</p>\n",
       "</div>"
      ],
      "text/plain": [
       "        amount_on_claim            status  provider_type_Facility  \\\n",
       "0                 20.50      Fully Denied                       1   \n",
       "1                  9.00      Fully Denied                       1   \n",
       "2                397.00      Fully Denied                       1   \n",
       "3                445.90      Fully Denied                       1   \n",
       "4                 82.82      Fully Denied                       1   \n",
       "...                 ...               ...                     ...   \n",
       "857651           501.00  Partially Denied                       1   \n",
       "857652            23.00  Partially Denied                       1   \n",
       "857653            42.00  Partially Denied                       1   \n",
       "857654            87.00  Partially Denied                       1   \n",
       "857655            41.00  Partially Denied                       1   \n",
       "\n",
       "        provider_type_Practioner  provider_type2_BH  provider_type2_DAYS  \\\n",
       "0                              0                  0                    0   \n",
       "1                              0                  0                    0   \n",
       "2                              0                  0                    0   \n",
       "3                              0                  0                    0   \n",
       "4                              0                  0                    0   \n",
       "...                          ...                ...                  ...   \n",
       "857651                         0                  0                    0   \n",
       "857652                         0                  0                    0   \n",
       "857653                         0                  0                    0   \n",
       "857654                         0                  0                    0   \n",
       "857655                         0                  0                    0   \n",
       "\n",
       "        provider_type2_DME  provider_type2_DO  provider_type2_HHA  \\\n",
       "0                        0                  0                   0   \n",
       "1                        0                  0                   0   \n",
       "2                        0                  0                   0   \n",
       "3                        0                  0                   0   \n",
       "4                        0                  0                   0   \n",
       "...                    ...                ...                 ...   \n",
       "857651                   0                  0                   0   \n",
       "857652                   0                  0                   0   \n",
       "857653                   0                  0                   0   \n",
       "857654                   0                  0                   0   \n",
       "857655                   0                  0                   0   \n",
       "\n",
       "        provider_type2_HOSP  ...  ICD_10_Parasitic_diseases  \\\n",
       "0                         1  ...                          0   \n",
       "1                         1  ...                          0   \n",
       "2                         1  ...                          1   \n",
       "3                         1  ...                          0   \n",
       "4                         1  ...                          0   \n",
       "...                     ...  ...                        ...   \n",
       "857651                    1  ...                          0   \n",
       "857652                    1  ...                          0   \n",
       "857653                    1  ...                          0   \n",
       "857654                    1  ...                          0   \n",
       "857655                    1  ...                          0   \n",
       "\n",
       "        ICD_10_Perinatal_period  ICD_10_Pregnancy_childbirth  \\\n",
       "0                             0                            0   \n",
       "1                             0                            0   \n",
       "2                             0                            0   \n",
       "3                             0                            0   \n",
       "4                             0                            0   \n",
       "...                         ...                          ...   \n",
       "857651                        0                            0   \n",
       "857652                        0                            0   \n",
       "857653                        0                            0   \n",
       "857654                        0                            0   \n",
       "857655                        0                            0   \n",
       "\n",
       "        ICD_10_Respiratory_diseases  ICD_10_Skin_diseases  CPT_CPT_I  \\\n",
       "0                                 0                     0          1   \n",
       "1                                 0                     0          0   \n",
       "2                                 0                     0          0   \n",
       "3                                 0                     0          0   \n",
       "4                                 0                     0          0   \n",
       "...                             ...                   ...        ...   \n",
       "857651                            0                     0          0   \n",
       "857652                            0                     0          1   \n",
       "857653                            0                     0          1   \n",
       "857654                            0                     0          1   \n",
       "857655                            0                     0          1   \n",
       "\n",
       "        CPT_CPT_II  CPT_HCPCS_modifiers  CPT_HCPCS_modifiers_II  CPT_Others  \n",
       "0                0                    0                       0           0  \n",
       "1                0                    0                       1           0  \n",
       "2                0                    0                       1           0  \n",
       "3                0                    0                       1           0  \n",
       "4                0                    0                       0           1  \n",
       "...            ...                  ...                     ...         ...  \n",
       "857651           0                    0                       0           1  \n",
       "857652           0                    0                       0           0  \n",
       "857653           0                    0                       0           0  \n",
       "857654           0                    0                       0           0  \n",
       "857655           0                    0                       0           0  \n",
       "\n",
       "[857656 rows x 171 columns]"
      ]
     },
     "execution_count": 11,
     "metadata": {},
     "output_type": "execute_result"
    }
   ],
   "source": [
    "data_encoded = pd.get_dummies(data, columns = categorical_features)\n",
    "data_encoded"
   ]
  },
  {
   "cell_type": "markdown",
   "metadata": {},
   "source": [
    "# Encode Tagte feature using Label Encoder"
   ]
  },
  {
   "cell_type": "code",
   "execution_count": 12,
   "metadata": {},
   "outputs": [
    {
     "data": {
      "text/plain": [
       "array(['Fully Denied', 'Fully Paid', 'Partially Denied'], dtype=object)"
      ]
     },
     "execution_count": 12,
     "metadata": {},
     "output_type": "execute_result"
    }
   ],
   "source": [
    "label_encoder = LabelEncoder()\n",
    "target = label_encoder.fit_transform(data_encoded['status'])\n",
    "label_encoder.classes_"
   ]
  },
  {
   "cell_type": "markdown",
   "metadata": {},
   "source": [
    "# Split the data into train and test"
   ]
  },
  {
   "cell_type": "code",
   "execution_count": 13,
   "metadata": {},
   "outputs": [],
   "source": [
    "from sklearn.model_selection import train_test_split\n",
    "x = data_encoded.drop('status',axis=1)\n",
    "y = data_encoded['status']\n",
    "x_train, x_test, y_train, y_test = train_test_split(x, y, test_size=0.3, random_state=42)"
   ]
  },
  {
   "cell_type": "markdown",
   "metadata": {},
   "source": [
    "# Scale the data"
   ]
  },
  {
   "cell_type": "code",
   "execution_count": 14,
   "metadata": {},
   "outputs": [],
   "source": [
    "# scaler = StandardScaler()\n",
    "# x_train = scaler.fit_transform(x_train)\n",
    "# x_test = scaler.transform(x_test)"
   ]
  },
  {
   "cell_type": "markdown",
   "metadata": {},
   "source": [
    "# Feature Importance"
   ]
  },
  {
   "cell_type": "code",
   "execution_count": 26,
   "metadata": {},
   "outputs": [],
   "source": [
    "fs = SelectKBest(score_func=chi2, k='all')\n",
    "fs.fit(x_train.iloc[:,1:], y_train)\n",
    "X_train_fs = fs.transform(x_train.iloc[:,1:])\n",
    "X_test_fs = fs.transform(x_test.iloc[:,1:])"
   ]
  },
  {
   "cell_type": "code",
   "execution_count": 28,
   "metadata": {},
   "outputs": [
    {
     "data": {
      "text/plain": [
       "<matplotlib.axes._subplots.AxesSubplot at 0x16f03cba648>"
      ]
     },
     "execution_count": 28,
     "metadata": {},
     "output_type": "execute_result"
    },
    {
     "data": {
      "image/png": "[encoded data removed]",
      "text/plain": [
       "<Figure size 720x720 with 1 Axes>"
      ]
     },
     "metadata": {
      "needs_background": "light"
     },
     "output_type": "display_data"
    }
   ],
   "source": [
    "feature_importance ={i:j for i,j in zip(x_train.columns, np.round(fs.scores_,4))}\n",
    "feature_importance = {i:j for i,j in sorted(feature_importance.items(),key=lambda x : x[1],reverse=True)}\n",
    "\n",
    "top_features = list(feature_importance.keys())[:30]\n",
    "top_features_importance = list(feature_importance.values())[:30]\n",
    "\n",
    "plt.figure(figsize=(10,10))\n",
    "sns.barplot(y = top_features,x = top_features_importance)"
   ]
  },
  {
   "cell_type": "markdown",
   "metadata": {},
   "source": [
    "# Model Biulding"
   ]
  },
  {
   "cell_type": "markdown",
   "metadata": {},
   "source": [
    "## Mdel-1 Random Forest"
   ]
  },
  {
   "cell_type": "code",
   "execution_count": 35,
   "metadata": {},
   "outputs": [
    {
     "data": {
      "text/plain": [
       "array(['Fully Paid', 'Partially Denied', 'Fully Denied', ...,\n",
       "       'Partially Denied', 'Partially Denied', 'Fully Denied'],\n",
       "      dtype=object)"
      ]
     },
     "execution_count": 35,
     "metadata": {},
     "output_type": "execute_result"
    }
   ],
   "source": [
    "classifier.predict(x_test)"
   ]
  },
  {
   "cell_type": "code",
   "execution_count": 29,
   "metadata": {},
   "outputs": [
    {
     "data": {
      "image/png": "[encoded data removed]",
      "text/plain": [
       "<Figure size 720x360 with 2 Axes>"
      ]
     },
     "metadata": {
      "needs_background": "light"
     },
     "output_type": "display_data"
    },
    {
     "name": "stdout",
     "output_type": "stream",
     "text": [
      "                  precision    recall  f1-score   support\n",
      "\n",
      "    Fully Denied       0.84      0.83      0.83     85829\n",
      "      Fully Paid       0.97      0.98      0.97     88222\n",
      "Partially Denied       0.83      0.83      0.83     83246\n",
      "\n",
      "        accuracy                           0.88    257297\n",
      "       macro avg       0.88      0.88      0.88    257297\n",
      "    weighted avg       0.88      0.88      0.88    257297\n",
      "\n"
     ]
    }
   ],
   "source": [
    "classifier = RandomForestClassifier(n_estimators = 10, criterion = 'entropy', random_state = 42)\n",
    "classifier.fit(x_train, y_train)\n",
    "\n",
    "y_predict_test = classifier.predict(x_test)\n",
    "cm = confusion_matrix(y_test,y_predict_test,labels=['Fully Denied', 'Fully Paid', 'Partially Denied'])\n",
    "cm_df = pd.DataFrame(cm,\n",
    "                     index = ['Fully Denied', 'Fully Paid', 'Partially Denied'], \n",
    "                     columns = ['Fully Denied', 'Fully Paid', 'Partially Denied'])\n",
    "\n",
    "plt.figure(figsize=(10,5))\n",
    "sns.heatmap(cm_df, annot=True,fmt=\"d\")\n",
    "plt.title('Confusion Matrix')\n",
    "plt.ylabel('Actal Values')\n",
    "plt.xlabel('Predicted Values')\n",
    "plt.show()\n",
    "\n",
    "cr = classification_report(y_test,y_predict_test,labels=['Fully Denied', 'Fully Paid', 'Partially Denied'])\n",
    "print(cr)"
   ]
  },
  {
   "cell_type": "code",
   "execution_count": 55,
   "metadata": {},
   "outputs": [],
   "source": [
    "feature_importance ={i:j for i,j in zip(x_train.columns, np.round(classifier.feature_importances_,4))}\n",
    "feature_importance = {i:j for i,j in sorted(feature_importance.items(),key=lambda x : x[1],reverse=True)}"
   ]
  },
  {
   "cell_type": "code",
   "execution_count": 78,
   "metadata": {},
   "outputs": [],
   "source": [
    "top_features = list(feature_importance.keys())[:30]\n",
    "top_features_importance = list(feature_importance.values())[:30]"
   ]
  },
  {
   "cell_type": "code",
   "execution_count": 77,
   "metadata": {},
   "outputs": [
    {
     "data": {
      "text/plain": [
       "<matplotlib.axes._subplots.AxesSubplot at 0x1ad12e18348>"
      ]
     },
     "execution_count": 77,
     "metadata": {},
     "output_type": "execute_result"
    },
    {
     "data": {
      "image/png": "[encoded data removed]",
      "text/plain": [
       "<Figure size 720x720 with 1 Axes>"
      ]
     },
     "metadata": {
      "needs_background": "light"
     },
     "output_type": "display_data"
    }
   ],
   "source": [
    "plt.figure(figsize=(10,10))\n",
    "sns.barplot(y = top_features,x = top_features_importance)"
   ]
  },
  {
   "cell_type": "code",
   "execution_count": 31,
   "metadata": {},
   "outputs": [
    {
     "data": {
      "text/plain": [
       "(170,)"
      ]
     },
     "execution_count": 31,
     "metadata": {},
     "output_type": "execute_result"
    }
   ],
   "source": [
    "x_train.columns"
   ]
  },
  {
   "cell_type": "markdown",
   "metadata": {},
   "source": [
    "## Model-2 XGBoost"
   ]
  },
  {
   "cell_type": "code",
   "execution_count": 11,
   "metadata": {
    "scrolled": true
   },
   "outputs": [
    {
     "name": "stderr",
     "output_type": "stream",
     "text": [
      "C:\\Users\\pavan\\anaconda3\\lib\\site-packages\\xgboost\\sklearn.py:888: UserWarning: The use of label encoder in XGBClassifier is deprecated and will be removed in a future release. To remove this warning, do the following: 1) Pass option use_label_encoder=False when constructing XGBClassifier object; and 2) Encode your labels (y) as integers starting with 0, i.e. 0, 1, 2, ..., [num_class - 1].\n",
      "  warnings.warn(label_encoder_deprecation_msg, UserWarning)\n"
     ]
    },
    {
     "name": "stdout",
     "output_type": "stream",
     "text": [
      "[21:09:04] WARNING: C:/Users/Administrator/workspace/xgboost-win64_release_1.3.0/src/learner.cc:1061: Starting in XGBoost 1.3.0, the default evaluation metric used with the objective 'multi:softprob' was changed from 'merror' to 'mlogloss'. Explicitly set eval_metric if you'd like to restore the old behavior.\n"
     ]
    }
   ],
   "source": [
    "from sklearn.metrics import roc_curve,auc\n",
    "import matplotlib.pyplot as plt\n",
    "\n",
    "max_depth_ = 15\n",
    "n_estimators = 150\n",
    "\n",
    "xgclassifier=XGBClassifier(max_depth=max_depth_,n_estimators=n_estimators)\n",
    "xgclassifier.fit(x_train, y_train)"
   ]
  },
  {
   "cell_type": "code",
   "execution_count": 25,
   "metadata": {},
   "outputs": [
    {
     "data": {
      "image/png": "[encoded data removed]",
      "text/plain": [
       "<Figure size 720x360 with 2 Axes>"
      ]
     },
     "metadata": {
      "needs_background": "light"
     },
     "output_type": "display_data"
    },
    {
     "name": "stdout",
     "output_type": "stream",
     "text": [
      "                  precision    recall  f1-score   support\n",
      "\n",
      "    Fully Denied       0.90      0.80      0.85     85829\n",
      "      Fully Paid       0.97      0.99      0.98     88222\n",
      "Partially Denied       0.83      0.90      0.86     83246\n",
      "\n",
      "        accuracy                           0.90    257297\n",
      "       macro avg       0.90      0.90      0.90    257297\n",
      "    weighted avg       0.90      0.90      0.90    257297\n",
      "\n"
     ]
    }
   ],
   "source": [
    "y_test_pred= xglassifier.predict_proba(x_test)\n",
    "y_test_pred = np.argmax(y_test_pred,axis=1)\n",
    "y_test_pred = label_encoder.inverse_transform(y_test_pred)\n",
    "\n",
    "cm = confusion_matrix(y_test,y_test_pred,labels=['Fully Denied', 'Fully Paid', 'Partially Denied'])\n",
    "cm_df = pd.DataFrame(cm,\n",
    "                     index = ['Fully Denied', 'Fully Paid', 'Partially Denied'], \n",
    "                     columns = ['Fully Denied', 'Fully Paid', 'Partially Denied'])\n",
    "\n",
    "plt.figure(figsize=(10,5))\n",
    "sns.heatmap(cm_df, annot=True,fmt=\"d\")\n",
    "plt.title('Confusion Matrix')\n",
    "plt.ylabel('Actal Values')\n",
    "plt.xlabel('Predicted Values')\n",
    "plt.show()\n",
    "\n",
    "cr = classification_report(y_test,y_test_pred,labels=['Fully Denied', 'Fully Paid', 'Partially Denied'])\n",
    "print(cr)"
   ]
  },
  {
   "cell_type": "code",
   "execution_count": null,
   "metadata": {},
   "outputs": [],
   "source": [
    "top_20_positive_features_bow=np.take(features_list_bow,nbclassifier1.feature_log_prob_[1,:].argsort()[-1:-21:-1])"
   ]
  },
  {
   "cell_type": "markdown",
   "metadata": {},
   "source": [
    "## Model-2 XGBoost"
   ]
  },
  {
   "cell_type": "code",
   "execution_count": 8,
   "metadata": {},
   "outputs": [
    {
     "name": "stdout",
     "output_type": "stream",
     "text": [
      "Fitting 5 folds for each of 25 candidates, totalling 125 fits\n"
     ]
    },
    {
     "name": "stderr",
     "output_type": "stream",
     "text": [
      "[Parallel(n_jobs=1)]: Using backend SequentialBackend with 1 concurrent workers.\n"
     ]
    },
    {
     "name": "stdout",
     "output_type": "stream",
     "text": [
      "[LightGBM] [Warning] Accuracy may be bad since you didn't explicitly set num_leaves OR 2^max_depth > num_leaves. (num_leaves=31).\n",
      "[LightGBM] [Warning] Accuracy may be bad since you didn't explicitly set num_leaves OR 2^max_depth > num_leaves. (num_leaves=31).\n",
      "[LightGBM] [Warning] Accuracy may be bad since you didn't explicitly set num_leaves OR 2^max_depth > num_leaves. (num_leaves=31).\n",
      "[LightGBM] [Warning] Accuracy may be bad since you didn't explicitly set num_leaves OR 2^max_depth > num_leaves. (num_leaves=31).\n",
      "[LightGBM] [Warning] Accuracy may be bad since you didn't explicitly set num_leaves OR 2^max_depth > num_leaves. (num_leaves=31).\n",
      "[LightGBM] [Warning] Accuracy may be bad since you didn't explicitly set num_leaves OR 2^max_depth > num_leaves. (num_leaves=31).\n",
      "[LightGBM] [Warning] Accuracy may be bad since you didn't explicitly set num_leaves OR 2^max_depth > num_leaves. (num_leaves=31).\n",
      "[LightGBM] [Warning] Accuracy may be bad since you didn't explicitly set num_leaves OR 2^max_depth > num_leaves. (num_leaves=31).\n",
      "[LightGBM] [Warning] Accuracy may be bad since you didn't explicitly set num_leaves OR 2^max_depth > num_leaves. (num_leaves=31).\n",
      "[LightGBM] [Warning] Accuracy may be bad since you didn't explicitly set num_leaves OR 2^max_depth > num_leaves. (num_leaves=31).\n",
      "[LightGBM] [Warning] Accuracy may be bad since you didn't explicitly set num_leaves OR 2^max_depth > num_leaves. (num_leaves=31).\n",
      "[LightGBM] [Warning] Accuracy may be bad since you didn't explicitly set num_leaves OR 2^max_depth > num_leaves. (num_leaves=31).\n",
      "[LightGBM] [Warning] Accuracy may be bad since you didn't explicitly set num_leaves OR 2^max_depth > num_leaves. (num_leaves=31).\n",
      "[LightGBM] [Warning] Accuracy may be bad since you didn't explicitly set num_leaves OR 2^max_depth > num_leaves. (num_leaves=31).\n",
      "[LightGBM] [Warning] Accuracy may be bad since you didn't explicitly set num_leaves OR 2^max_depth > num_leaves. (num_leaves=31).\n",
      "[LightGBM] [Warning] Accuracy may be bad since you didn't explicitly set num_leaves OR 2^max_depth > num_leaves. (num_leaves=31).\n",
      "[LightGBM] [Warning] Accuracy may be bad since you didn't explicitly set num_leaves OR 2^max_depth > num_leaves. (num_leaves=31).\n",
      "[LightGBM] [Warning] Accuracy may be bad since you didn't explicitly set num_leaves OR 2^max_depth > num_leaves. (num_leaves=31).\n",
      "[LightGBM] [Warning] Accuracy may be bad since you didn't explicitly set num_leaves OR 2^max_depth > num_leaves. (num_leaves=31).\n",
      "[LightGBM] [Warning] Accuracy may be bad since you didn't explicitly set num_leaves OR 2^max_depth > num_leaves. (num_leaves=31).\n",
      "[LightGBM] [Warning] Accuracy may be bad since you didn't explicitly set num_leaves OR 2^max_depth > num_leaves. (num_leaves=31).\n",
      "[LightGBM] [Warning] Accuracy may be bad since you didn't explicitly set num_leaves OR 2^max_depth > num_leaves. (num_leaves=31).\n",
      "[LightGBM] [Warning] Accuracy may be bad since you didn't explicitly set num_leaves OR 2^max_depth > num_leaves. (num_leaves=31).\n",
      "[LightGBM] [Warning] Accuracy may be bad since you didn't explicitly set num_leaves OR 2^max_depth > num_leaves. (num_leaves=31).\n",
      "[LightGBM] [Warning] Accuracy may be bad since you didn't explicitly set num_leaves OR 2^max_depth > num_leaves. (num_leaves=31).\n",
      "[LightGBM] [Warning] Accuracy may be bad since you didn't explicitly set num_leaves OR 2^max_depth > num_leaves. (num_leaves=31).\n",
      "[LightGBM] [Warning] Accuracy may be bad since you didn't explicitly set num_leaves OR 2^max_depth > num_leaves. (num_leaves=31).\n",
      "[LightGBM] [Warning] Accuracy may be bad since you didn't explicitly set num_leaves OR 2^max_depth > num_leaves. (num_leaves=31).\n",
      "[LightGBM] [Warning] Accuracy may be bad since you didn't explicitly set num_leaves OR 2^max_depth > num_leaves. (num_leaves=31).\n",
      "[LightGBM] [Warning] Accuracy may be bad since you didn't explicitly set num_leaves OR 2^max_depth > num_leaves. (num_leaves=31).\n",
      "[LightGBM] [Warning] Accuracy may be bad since you didn't explicitly set num_leaves OR 2^max_depth > num_leaves. (num_leaves=31).\n",
      "[LightGBM] [Warning] Accuracy may be bad since you didn't explicitly set num_leaves OR 2^max_depth > num_leaves. (num_leaves=31).\n",
      "[LightGBM] [Warning] Accuracy may be bad since you didn't explicitly set num_leaves OR 2^max_depth > num_leaves. (num_leaves=31).\n",
      "[LightGBM] [Warning] Accuracy may be bad since you didn't explicitly set num_leaves OR 2^max_depth > num_leaves. (num_leaves=31).\n",
      "[LightGBM] [Warning] Accuracy may be bad since you didn't explicitly set num_leaves OR 2^max_depth > num_leaves. (num_leaves=31).\n",
      "[LightGBM] [Warning] Accuracy may be bad since you didn't explicitly set num_leaves OR 2^max_depth > num_leaves. (num_leaves=31).\n",
      "[LightGBM] [Warning] Accuracy may be bad since you didn't explicitly set num_leaves OR 2^max_depth > num_leaves. (num_leaves=31).\n",
      "[LightGBM] [Warning] Accuracy may be bad since you didn't explicitly set num_leaves OR 2^max_depth > num_leaves. (num_leaves=31).\n",
      "[LightGBM] [Warning] Accuracy may be bad since you didn't explicitly set num_leaves OR 2^max_depth > num_leaves. (num_leaves=31).\n",
      "[LightGBM] [Warning] Accuracy may be bad since you didn't explicitly set num_leaves OR 2^max_depth > num_leaves. (num_leaves=31).\n",
      "[LightGBM] [Warning] Accuracy may be bad since you didn't explicitly set num_leaves OR 2^max_depth > num_leaves. (num_leaves=31).\n",
      "[LightGBM] [Warning] Accuracy may be bad since you didn't explicitly set num_leaves OR 2^max_depth > num_leaves. (num_leaves=31).\n",
      "[LightGBM] [Warning] Accuracy may be bad since you didn't explicitly set num_leaves OR 2^max_depth > num_leaves. (num_leaves=31).\n",
      "[LightGBM] [Warning] Accuracy may be bad since you didn't explicitly set num_leaves OR 2^max_depth > num_leaves. (num_leaves=31).\n",
      "[LightGBM] [Warning] Accuracy may be bad since you didn't explicitly set num_leaves OR 2^max_depth > num_leaves. (num_leaves=31).\n",
      "[LightGBM] [Warning] Accuracy may be bad since you didn't explicitly set num_leaves OR 2^max_depth > num_leaves. (num_leaves=31).\n",
      "[LightGBM] [Warning] Accuracy may be bad since you didn't explicitly set num_leaves OR 2^max_depth > num_leaves. (num_leaves=31).\n",
      "[LightGBM] [Warning] Accuracy may be bad since you didn't explicitly set num_leaves OR 2^max_depth > num_leaves. (num_leaves=31).\n",
      "[LightGBM] [Warning] Accuracy may be bad since you didn't explicitly set num_leaves OR 2^max_depth > num_leaves. (num_leaves=31).\n",
      "[LightGBM] [Warning] Accuracy may be bad since you didn't explicitly set num_leaves OR 2^max_depth > num_leaves. (num_leaves=31).\n",
      "[LightGBM] [Warning] Accuracy may be bad since you didn't explicitly set num_leaves OR 2^max_depth > num_leaves. (num_leaves=31).\n",
      "[LightGBM] [Warning] Accuracy may be bad since you didn't explicitly set num_leaves OR 2^max_depth > num_leaves. (num_leaves=31).\n",
      "[LightGBM] [Warning] Accuracy may be bad since you didn't explicitly set num_leaves OR 2^max_depth > num_leaves. (num_leaves=31).\n",
      "[LightGBM] [Warning] Accuracy may be bad since you didn't explicitly set num_leaves OR 2^max_depth > num_leaves. (num_leaves=31).\n",
      "[LightGBM] [Warning] Accuracy may be bad since you didn't explicitly set num_leaves OR 2^max_depth > num_leaves. (num_leaves=31).\n",
      "[LightGBM] [Warning] Accuracy may be bad since you didn't explicitly set num_leaves OR 2^max_depth > num_leaves. (num_leaves=31).\n",
      "[LightGBM] [Warning] Accuracy may be bad since you didn't explicitly set num_leaves OR 2^max_depth > num_leaves. (num_leaves=31).\n",
      "[LightGBM] [Warning] Accuracy may be bad since you didn't explicitly set num_leaves OR 2^max_depth > num_leaves. (num_leaves=31).\n",
      "[LightGBM] [Warning] Accuracy may be bad since you didn't explicitly set num_leaves OR 2^max_depth > num_leaves. (num_leaves=31).\n",
      "[LightGBM] [Warning] Accuracy may be bad since you didn't explicitly set num_leaves OR 2^max_depth > num_leaves. (num_leaves=31).\n",
      "[LightGBM] [Warning] Accuracy may be bad since you didn't explicitly set num_leaves OR 2^max_depth > num_leaves. (num_leaves=31).\n",
      "[LightGBM] [Warning] Accuracy may be bad since you didn't explicitly set num_leaves OR 2^max_depth > num_leaves. (num_leaves=31).\n",
      "[LightGBM] [Warning] Accuracy may be bad since you didn't explicitly set num_leaves OR 2^max_depth > num_leaves. (num_leaves=31).\n",
      "[LightGBM] [Warning] Accuracy may be bad since you didn't explicitly set num_leaves OR 2^max_depth > num_leaves. (num_leaves=31).\n"
     ]
    },
    {
     "name": "stdout",
     "output_type": "stream",
     "text": [
      "[LightGBM] [Warning] Accuracy may be bad since you didn't explicitly set num_leaves OR 2^max_depth > num_leaves. (num_leaves=31).\n",
      "[LightGBM] [Warning] Accuracy may be bad since you didn't explicitly set num_leaves OR 2^max_depth > num_leaves. (num_leaves=31).\n",
      "[LightGBM] [Warning] Accuracy may be bad since you didn't explicitly set num_leaves OR 2^max_depth > num_leaves. (num_leaves=31).\n",
      "[LightGBM] [Warning] Accuracy may be bad since you didn't explicitly set num_leaves OR 2^max_depth > num_leaves. (num_leaves=31).\n",
      "[LightGBM] [Warning] Accuracy may be bad since you didn't explicitly set num_leaves OR 2^max_depth > num_leaves. (num_leaves=31).\n",
      "[LightGBM] [Warning] Accuracy may be bad since you didn't explicitly set num_leaves OR 2^max_depth > num_leaves. (num_leaves=31).\n",
      "[LightGBM] [Warning] Accuracy may be bad since you didn't explicitly set num_leaves OR 2^max_depth > num_leaves. (num_leaves=31).\n",
      "[LightGBM] [Warning] Accuracy may be bad since you didn't explicitly set num_leaves OR 2^max_depth > num_leaves. (num_leaves=31).\n",
      "[LightGBM] [Warning] Accuracy may be bad since you didn't explicitly set num_leaves OR 2^max_depth > num_leaves. (num_leaves=31).\n",
      "[LightGBM] [Warning] Accuracy may be bad since you didn't explicitly set num_leaves OR 2^max_depth > num_leaves. (num_leaves=31).\n",
      "[LightGBM] [Warning] Accuracy may be bad since you didn't explicitly set num_leaves OR 2^max_depth > num_leaves. (num_leaves=31).\n",
      "[LightGBM] [Warning] Accuracy may be bad since you didn't explicitly set num_leaves OR 2^max_depth > num_leaves. (num_leaves=31).\n",
      "[LightGBM] [Warning] Accuracy may be bad since you didn't explicitly set num_leaves OR 2^max_depth > num_leaves. (num_leaves=31).\n",
      "[LightGBM] [Warning] Accuracy may be bad since you didn't explicitly set num_leaves OR 2^max_depth > num_leaves. (num_leaves=31).\n",
      "[LightGBM] [Warning] Accuracy may be bad since you didn't explicitly set num_leaves OR 2^max_depth > num_leaves. (num_leaves=31).\n",
      "[LightGBM] [Warning] Accuracy may be bad since you didn't explicitly set num_leaves OR 2^max_depth > num_leaves. (num_leaves=31).\n",
      "[LightGBM] [Warning] Accuracy may be bad since you didn't explicitly set num_leaves OR 2^max_depth > num_leaves. (num_leaves=31).\n",
      "[LightGBM] [Warning] Accuracy may be bad since you didn't explicitly set num_leaves OR 2^max_depth > num_leaves. (num_leaves=31).\n",
      "[LightGBM] [Warning] Accuracy may be bad since you didn't explicitly set num_leaves OR 2^max_depth > num_leaves. (num_leaves=31).\n",
      "[LightGBM] [Warning] Accuracy may be bad since you didn't explicitly set num_leaves OR 2^max_depth > num_leaves. (num_leaves=31).\n",
      "[LightGBM] [Warning] Accuracy may be bad since you didn't explicitly set num_leaves OR 2^max_depth > num_leaves. (num_leaves=31).\n",
      "[LightGBM] [Warning] Accuracy may be bad since you didn't explicitly set num_leaves OR 2^max_depth > num_leaves. (num_leaves=31).\n",
      "[LightGBM] [Warning] Accuracy may be bad since you didn't explicitly set num_leaves OR 2^max_depth > num_leaves. (num_leaves=31).\n",
      "[LightGBM] [Warning] Accuracy may be bad since you didn't explicitly set num_leaves OR 2^max_depth > num_leaves. (num_leaves=31).\n",
      "[LightGBM] [Warning] Accuracy may be bad since you didn't explicitly set num_leaves OR 2^max_depth > num_leaves. (num_leaves=31).\n",
      "[LightGBM] [Warning] Accuracy may be bad since you didn't explicitly set num_leaves OR 2^max_depth > num_leaves. (num_leaves=31).\n",
      "[LightGBM] [Warning] Accuracy may be bad since you didn't explicitly set num_leaves OR 2^max_depth > num_leaves. (num_leaves=31).\n",
      "[LightGBM] [Warning] Accuracy may be bad since you didn't explicitly set num_leaves OR 2^max_depth > num_leaves. (num_leaves=31).\n",
      "[LightGBM] [Warning] Accuracy may be bad since you didn't explicitly set num_leaves OR 2^max_depth > num_leaves. (num_leaves=31).\n",
      "[LightGBM] [Warning] Accuracy may be bad since you didn't explicitly set num_leaves OR 2^max_depth > num_leaves. (num_leaves=31).\n",
      "[LightGBM] [Warning] Accuracy may be bad since you didn't explicitly set num_leaves OR 2^max_depth > num_leaves. (num_leaves=31).\n",
      "[LightGBM] [Warning] Accuracy may be bad since you didn't explicitly set num_leaves OR 2^max_depth > num_leaves. (num_leaves=31).\n",
      "[LightGBM] [Warning] Accuracy may be bad since you didn't explicitly set num_leaves OR 2^max_depth > num_leaves. (num_leaves=31).\n",
      "[LightGBM] [Warning] Accuracy may be bad since you didn't explicitly set num_leaves OR 2^max_depth > num_leaves. (num_leaves=31).\n",
      "[LightGBM] [Warning] Accuracy may be bad since you didn't explicitly set num_leaves OR 2^max_depth > num_leaves. (num_leaves=31).\n",
      "[LightGBM] [Warning] Accuracy may be bad since you didn't explicitly set num_leaves OR 2^max_depth > num_leaves. (num_leaves=31).\n"
     ]
    },
    {
     "name": "stderr",
     "output_type": "stream",
     "text": [
      "[Parallel(n_jobs=1)]: Done 125 out of 125 | elapsed: 30.6min finished\n"
     ]
    },
    {
     "name": "stdout",
     "output_type": "stream",
     "text": [
      "[LightGBM] [Warning] Accuracy may be bad since you didn't explicitly set num_leaves OR 2^max_depth > num_leaves. (num_leaves=31).\n"
     ]
    },
    {
     "data": {
      "text/plain": [
       "{'max_depth': 15, 'n_estimators': 200}"
      ]
     },
     "execution_count": 8,
     "metadata": {},
     "output_type": "execute_result"
    }
   ],
   "source": [
    "from tqdm import tqdm\n",
    "from lightgbm import LGBMClassifier\n",
    "from sklearn.model_selection import GridSearchCV\n",
    "from sklearn.metrics import roc_auc_score,roc_curve\n",
    "import matplotlib.pyplot as plt\n",
    "import numpy as np\n",
    "\n",
    "model = LGBMClassifier(class_weight='balanced')\n",
    "\n",
    "max_depth = [3,5,10,12,15]\n",
    "n_estimators=[20,50,100,150,200]\n",
    "\n",
    "params = {'max_depth':max_depth,'n_estimators':n_estimators}\n",
    "\n",
    "classifier = GridSearchCV(model,params,cv=5,verbose=1,scoring='f1_micro',return_train_score=True)\n",
    "\n",
    "search = classifier.fit(x_train, y_train)\n",
    "\n",
    "search.best_params_\n"
   ]
  },
  {
   "cell_type": "code",
   "execution_count": 9,
   "metadata": {},
   "outputs": [
    {
     "data": {
      "text/plain": [
       "{'mean_fit_time': array([ 3.36659346,  3.95363526,  5.1924201 ,  6.43523917,  7.59626341,\n",
       "         3.86874061,  5.24170647,  6.71165643,  8.08369179,  9.62870097,\n",
       "         3.75526161,  5.47434778,  7.19404454,  8.8469038 , 10.0162776 ,\n",
       "         3.71483736,  5.31178851,  7.30635443,  9.28774633, 10.66643567,\n",
       "         3.77071466,  5.41107478,  8.19213419, 11.95407934, 11.70031853]),\n",
       " 'std_fit_time': array([0.11991815, 0.05006049, 0.08692575, 0.1854633 , 0.10798377,\n",
       "        0.30623911, 0.55584728, 0.34467747, 0.18030514, 0.2936406 ,\n",
       "        0.0992666 , 0.1744345 , 0.07259374, 0.21524052, 0.21185571,\n",
       "        0.09129169, 0.08621831, 0.19865942, 0.54682286, 0.79061558,\n",
       "        0.0986012 , 0.20745585, 1.07908251, 1.57926421, 0.60950944]),\n",
       " 'mean_score_time': array([1.10464916, 1.16198764, 1.30234289, 1.47652173, 1.6077353 ,\n",
       "        1.23174758, 1.27561164, 1.48471961, 1.71436443, 1.90922046,\n",
       "        1.1301208 , 1.31805639, 1.53433018, 1.74741974, 1.89917774,\n",
       "        1.12382011, 1.2801055 , 1.5405077 , 1.73659763, 1.91339507,\n",
       "        1.11570897, 1.27541032, 1.60804782, 2.14379525, 2.14413934]),\n",
       " 'std_score_time': array([0.05090104, 0.03636672, 0.02154593, 0.04381014, 0.03287825,\n",
       "        0.15487988, 0.06892757, 0.03544162, 0.05594081, 0.00907796,\n",
       "        0.03931982, 0.05606691, 0.05690322, 0.03262371, 0.05368077,\n",
       "        0.02465434, 0.01463898, 0.05141601, 0.05612813, 0.06657263,\n",
       "        0.02323266, 0.01862743, 0.08901495, 0.37043808, 0.12292514]),\n",
       " 'param_max_depth': masked_array(data=[3, 3, 3, 3, 3, 5, 5, 5, 5, 5, 10, 10, 10, 10, 10, 12,\n",
       "                    12, 12, 12, 12, 15, 15, 15, 15, 15],\n",
       "              mask=[False, False, False, False, False, False, False, False,\n",
       "                    False, False, False, False, False, False, False, False,\n",
       "                    False, False, False, False, False, False, False, False,\n",
       "                    False],\n",
       "        fill_value='?',\n",
       "             dtype=object),\n",
       " 'param_n_estimators': masked_array(data=[20, 50, 100, 150, 200, 20, 50, 100, 150, 200, 20, 50,\n",
       "                    100, 150, 200, 20, 50, 100, 150, 200, 20, 50, 100, 150,\n",
       "                    200],\n",
       "              mask=[False, False, False, False, False, False, False, False,\n",
       "                    False, False, False, False, False, False, False, False,\n",
       "                    False, False, False, False, False, False, False, False,\n",
       "                    False],\n",
       "        fill_value='?',\n",
       "             dtype=object),\n",
       " 'params': [{'max_depth': 3, 'n_estimators': 20},\n",
       "  {'max_depth': 3, 'n_estimators': 50},\n",
       "  {'max_depth': 3, 'n_estimators': 100},\n",
       "  {'max_depth': 3, 'n_estimators': 150},\n",
       "  {'max_depth': 3, 'n_estimators': 200},\n",
       "  {'max_depth': 5, 'n_estimators': 20},\n",
       "  {'max_depth': 5, 'n_estimators': 50},\n",
       "  {'max_depth': 5, 'n_estimators': 100},\n",
       "  {'max_depth': 5, 'n_estimators': 150},\n",
       "  {'max_depth': 5, 'n_estimators': 200},\n",
       "  {'max_depth': 10, 'n_estimators': 20},\n",
       "  {'max_depth': 10, 'n_estimators': 50},\n",
       "  {'max_depth': 10, 'n_estimators': 100},\n",
       "  {'max_depth': 10, 'n_estimators': 150},\n",
       "  {'max_depth': 10, 'n_estimators': 200},\n",
       "  {'max_depth': 12, 'n_estimators': 20},\n",
       "  {'max_depth': 12, 'n_estimators': 50},\n",
       "  {'max_depth': 12, 'n_estimators': 100},\n",
       "  {'max_depth': 12, 'n_estimators': 150},\n",
       "  {'max_depth': 12, 'n_estimators': 200},\n",
       "  {'max_depth': 15, 'n_estimators': 20},\n",
       "  {'max_depth': 15, 'n_estimators': 50},\n",
       "  {'max_depth': 15, 'n_estimators': 100},\n",
       "  {'max_depth': 15, 'n_estimators': 150},\n",
       "  {'max_depth': 15, 'n_estimators': 200}],\n",
       " 'split0_test_score': array([0.81810232, 0.82469831, 0.83366785, 0.84298718, 0.84508591,\n",
       "        0.83370117, 0.84222931, 0.85356408, 0.85773654, 0.85991022,\n",
       "        0.84737618, 0.85569612, 0.8596687 , 0.86285843, 0.86537356,\n",
       "        0.84733454, 0.8547467 , 0.85991855, 0.86260025, 0.864116  ,\n",
       "        0.84757606, 0.85559618, 0.86021837, 0.86318323, 0.86477393]),\n",
       " 'split1_test_score': array([0.81374509, 0.82429709, 0.83236725, 0.84008761, 0.84356053,\n",
       "        0.83289193, 0.84157006, 0.85157239, 0.85452062, 0.85724399,\n",
       "        0.84695016, 0.85322973, 0.85894297, 0.86247418, 0.86418149,\n",
       "        0.84681691, 0.85385435, 0.85950929, 0.86199114, 0.86349024,\n",
       "        0.84680858, 0.85372943, 0.85906789, 0.86229929, 0.86392331]),\n",
       " 'split2_test_score': array([0.81388667, 0.82707042, 0.833883  , 0.8369978 , 0.84361883,\n",
       "        0.83318342, 0.84188653, 0.85198048, 0.85600306, 0.85869312,\n",
       "        0.84704177, 0.85447898, 0.85893464, 0.86235759, 0.86379839,\n",
       "        0.84713339, 0.85461223, 0.8592761 , 0.86245753, 0.86481444,\n",
       "        0.84740822, 0.85545339, 0.86014225, 0.86279066, 0.86512259]),\n",
       " 'split3_test_score': array([0.81297732, 0.82528671, 0.83450625, 0.83591375, 0.84173531,\n",
       "        0.83164961, 0.83936171, 0.85005538, 0.85329513, 0.85585195,\n",
       "        0.84584121, 0.85240399, 0.85752596, 0.85965804, 0.86264793,\n",
       "        0.84584121, 0.8530203 , 0.85792573, 0.86036595, 0.86228981,\n",
       "        0.84538315, 0.85305361, 0.85771752, 0.86079903, 0.86312265]),\n",
       " 'split4_test_score': array([0.81298565, 0.82628611, 0.8353724 , 0.84122727, 0.84538315,\n",
       "        0.83533076, 0.84228498, 0.85292036, 0.8573011 , 0.86009944,\n",
       "        0.8485063 , 0.85539389, 0.85957475, 0.86272289, 0.86523807,\n",
       "        0.84958899, 0.85581864, 0.85997452, 0.86267292, 0.86497156,\n",
       "        0.84948072, 0.8556604 , 0.86016607, 0.86322259, 0.86523807]),\n",
       " 'mean_test_score': array([0.81433942, 0.82552773, 0.83395935, 0.83944273, 0.84387675,\n",
       "        0.83335138, 0.84146652, 0.85201854, 0.8557713 , 0.85835975,\n",
       "        0.84714313, 0.85424055, 0.85892941, 0.86201423, 0.86424789,\n",
       "        0.84734301, 0.85441044, 0.85932084, 0.86201756, 0.86393641,\n",
       "        0.84733135, 0.85469861, 0.85946242, 0.86245896, 0.86443611]),\n",
       " 'std_test_score': array([0.00191863, 0.00102133, 0.00099211, 0.0026304 , 0.00130258,\n",
       "        0.00119796, 0.00108343, 0.00120469, 0.00167043, 0.00161713,\n",
       "        0.00085499, 0.00125701, 0.00076588, 0.0011913 , 0.00100139,\n",
       "        0.00123455, 0.00093579, 0.0007441 , 0.0008592 , 0.00097827,\n",
       "        0.0013232 , 0.00109048, 0.00097253, 0.00089427, 0.00080208]),\n",
       " 'rank_test_score': array([25, 24, 22, 21, 19, 23, 20, 15, 11, 10, 18, 14,  9,  6,  2, 16, 13,\n",
       "         8,  5,  3, 17, 12,  7,  4,  1]),\n",
       " 'split0_train_score': array([0.81888708, 0.82489392, 0.83344299, 0.8426271 , 0.84484037,\n",
       "        0.8335346 , 0.84163394, 0.85334363, 0.85816784, 0.86068093,\n",
       "        0.84763037, 0.85567766, 0.86103697, 0.86493464, 0.8678808 ,\n",
       "        0.84804887, 0.8548823 , 0.86092037, 0.86442869, 0.86682727,\n",
       "        0.8479989 , 0.85561936, 0.86105987, 0.86477016, 0.86709169]),\n",
       " 'split1_train_score': array([0.81400496, 0.82544812, 0.83390764, 0.84141357, 0.84493438,\n",
       "        0.83374732, 0.84291268, 0.85352508, 0.85673566, 0.85971096,\n",
       "        0.84769731, 0.85435167, 0.86032102, 0.86477044, 0.86712736,\n",
       "        0.84743081, 0.85501169, 0.860904  , 0.86414998, 0.86622165,\n",
       "        0.84753283, 0.85450783, 0.86022316, 0.86442898, 0.8667859 ]),\n",
       " 'split2_train_score': array([0.81359479, 0.82700344, 0.83394096, 0.83693292, 0.84382255,\n",
       "        0.83327469, 0.84205694, 0.85265268, 0.85687724, 0.85995665,\n",
       "        0.84679785, 0.8546848 , 0.86011073, 0.86422701, 0.86665473,\n",
       "        0.84695401, 0.85465774, 0.86049591, 0.86427074, 0.86746258,\n",
       "        0.8471414 , 0.85546767, 0.86125379, 0.86475795, 0.86791439]),\n",
       " 'split3_train_score': array([0.81366597, 0.82708292, 0.83636693, 0.8383574 , 0.84474732,\n",
       "        0.83363315, 0.8416929 , 0.85293407, 0.85704827, 0.85973624,\n",
       "        0.84805991, 0.85512026, 0.86092928, 0.86403783, 0.86709641,\n",
       "        0.84804326, 0.85588647, 0.86102505, 0.86451462, 0.86699647,\n",
       "        0.84741863, 0.85622793, 0.86123534, 0.86482902, 0.86767315]),\n",
       " 'split4_train_score': array([0.81228763, 0.82450946, 0.8335353 , 0.83935264, 0.84367504,\n",
       "        0.83335624, 0.84078928, 0.85179725, 0.85676511, 0.85987991,\n",
       "        0.84762268, 0.85457892, 0.85939062, 0.86288019, 0.86603871,\n",
       "        0.84793707, 0.85442485, 0.85951762, 0.86265324, 0.86549737,\n",
       "        0.84827229, 0.85469343, 0.85973   , 0.86329244, 0.86580343]),\n",
       " 'mean_train_score': array([0.81448808, 0.82578757, 0.83423876, 0.83973673, 0.84440393,\n",
       "        0.8335092 , 0.84181715, 0.85285055, 0.85711882, 0.85999294,\n",
       "        0.84756163, 0.85488266, 0.86035772, 0.86417002, 0.8669596 ,\n",
       "        0.8476828 , 0.85497261, 0.86057259, 0.86400346, 0.86660107,\n",
       "        0.84767281, 0.85530324, 0.86070043, 0.86441571, 0.86705371]),\n",
       " 'std_train_score': array([0.00227598, 0.00106805, 0.00108218, 0.00205317, 0.00054019,\n",
       "        0.00017384, 0.00068749, 0.00060888, 0.00053586, 0.00035576,\n",
       "        0.00041437, 0.00046943, 0.00059761, 0.0007252 , 0.00060605,\n",
       "        0.0004297 , 0.0004988 , 0.00055756, 0.00068675, 0.00067997,\n",
       "        0.000408  , 0.00063033, 0.00061499, 0.00057888, 0.00074308])}"
      ]
     },
     "execution_count": 9,
     "metadata": {},
     "output_type": "execute_result"
    }
   ],
   "source": [
    "search.cv_results_"
   ]
  },
  {
   "cell_type": "code",
   "execution_count": 76,
   "metadata": {},
   "outputs": [],
   "source": [
    "import seaborn as sns"
   ]
  },
  {
   "cell_type": "code",
   "execution_count": 96,
   "metadata": {},
   "outputs": [],
   "source": [
    "train_auc1 = search.cv_results_['mean_train_score']\n",
    "cv_auc1 = search.cv_results_['mean_test_score']"
   ]
  },
  {
   "cell_type": "code",
   "execution_count": 102,
   "metadata": {},
   "outputs": [],
   "source": [
    "train_li=np.zeros((len(max_depth),len(n_estimators)))\n",
    "cv_li=np.zeros((len(max_depth),len(n_estimators)))"
   ]
  },
  {
   "cell_type": "code",
   "execution_count": 120,
   "metadata": {},
   "outputs": [],
   "source": [
    "for i in range(len(max_depth)):\n",
    "    for j in range(len(n_estimators)):\n",
    "        train_li[i][j]=train_auc1[j+len(n_estimators)*i]\n",
    "        cv_li[i][j]=cv_auc1[j+len(n_estimators)*i] \n",
    "train_auc1_data = pd.DataFrame(train_li,columns=n_estimators,index=max_depth)\n",
    "cv_auc1_data = pd.DataFrame(cv_li,columns=n_estimators,index=max_depth)"
   ]
  },
  {
   "cell_type": "code",
   "execution_count": 121,
   "metadata": {},
   "outputs": [
    {
     "data": {
      "text/html": [
       "<div>\n",
       "<style scoped>\n",
       "    .dataframe tbody tr th:only-of-type {\n",
       "        vertical-align: middle;\n",
       "    }\n",
       "\n",
       "    .dataframe tbody tr th {\n",
       "        vertical-align: top;\n",
       "    }\n",
       "\n",
       "    .dataframe thead th {\n",
       "        text-align: right;\n",
       "    }\n",
       "</style>\n",
       "<table border=\"1\" class=\"dataframe\">\n",
       "  <thead>\n",
       "    <tr style=\"text-align: right;\">\n",
       "      <th></th>\n",
       "      <th>20</th>\n",
       "      <th>50</th>\n",
       "      <th>100</th>\n",
       "      <th>150</th>\n",
       "      <th>200</th>\n",
       "    </tr>\n",
       "  </thead>\n",
       "  <tbody>\n",
       "    <tr>\n",
       "      <th>3</th>\n",
       "      <td>0.660555</td>\n",
       "      <td>0.684937</td>\n",
       "      <td>0.702452</td>\n",
       "      <td>0.710658</td>\n",
       "      <td>0.715518</td>\n",
       "    </tr>\n",
       "    <tr>\n",
       "      <th>5</th>\n",
       "      <td>0.676880</td>\n",
       "      <td>0.698844</td>\n",
       "      <td>0.711543</td>\n",
       "      <td>0.716007</td>\n",
       "      <td>0.718186</td>\n",
       "    </tr>\n",
       "    <tr>\n",
       "      <th>10</th>\n",
       "      <td>0.691823</td>\n",
       "      <td>0.712852</td>\n",
       "      <td>0.720430</td>\n",
       "      <td>0.720544</td>\n",
       "      <td>0.719705</td>\n",
       "    </tr>\n",
       "    <tr>\n",
       "      <th>12</th>\n",
       "      <td>0.695018</td>\n",
       "      <td>0.715739</td>\n",
       "      <td>0.723103</td>\n",
       "      <td>0.723341</td>\n",
       "      <td>0.722678</td>\n",
       "    </tr>\n",
       "    <tr>\n",
       "      <th>15</th>\n",
       "      <td>0.695340</td>\n",
       "      <td>0.717173</td>\n",
       "      <td>0.723237</td>\n",
       "      <td>0.723639</td>\n",
       "      <td>0.722247</td>\n",
       "    </tr>\n",
       "  </tbody>\n",
       "</table>\n",
       "</div>"
      ],
      "text/plain": [
       "         20        50        100       150       200\n",
       "3   0.660555  0.684937  0.702452  0.710658  0.715518\n",
       "5   0.676880  0.698844  0.711543  0.716007  0.718186\n",
       "10  0.691823  0.712852  0.720430  0.720544  0.719705\n",
       "12  0.695018  0.715739  0.723103  0.723341  0.722678\n",
       "15  0.695340  0.717173  0.723237  0.723639  0.722247"
      ]
     },
     "execution_count": 121,
     "metadata": {},
     "output_type": "execute_result"
    }
   ],
   "source": [
    "cv_auc1_data"
   ]
  },
  {
   "cell_type": "code",
   "execution_count": 106,
   "metadata": {
    "scrolled": true
   },
   "outputs": [
    {
     "data": {
      "text/plain": [
       "Text(33.0, 0.5, 'max_depth')"
      ]
     },
     "execution_count": 106,
     "metadata": {},
     "output_type": "execute_result"
    },
    {
     "data": {
      "image/png": "[encoded data removed]",
      "text/plain": [
       "<Figure size 432x288 with 2 Axes>"
      ]
     },
     "metadata": {
      "needs_background": "light"
     },
     "output_type": "display_data"
    }
   ],
   "source": [
    "sns.heatmap(train_auc1_data,annot=True)\n",
    "plt.xlabel('n_estimators',color='blue',size=15)\n",
    "plt.ylabel('max_depth',color='blue',size=15)"
   ]
  },
  {
   "cell_type": "code",
   "execution_count": 122,
   "metadata": {},
   "outputs": [
    {
     "data": {
      "text/plain": [
       "Text(33.0, 0.5, 'max_depth')"
      ]
     },
     "execution_count": 122,
     "metadata": {},
     "output_type": "execute_result"
    },
    {
     "data": {
      "image/png": "[encoded data removed]",
      "text/plain": [
       "<Figure size 432x288 with 2 Axes>"
      ]
     },
     "metadata": {
      "needs_background": "light"
     },
     "output_type": "display_data"
    }
   ],
   "source": [
    "sns.heatmap(cv_auc1_data,annot=True)\n",
    "plt.xlabel('n_estimators',color='blue',size=15)\n",
    "plt.ylabel('max_depth',color='blue',size=15)"
   ]
  },
  {
   "cell_type": "markdown",
   "metadata": {},
   "source": [
    "<h4> 1.5.1.b  Training using best hyper parameters and  Plot between FPR and TPR</h4>"
   ]
  },
  {
   "cell_type": "code",
   "execution_count": 2,
   "metadata": {},
   "outputs": [],
   "source": [
    "from xgboost import XGBClassifier"
   ]
  },
  {
   "cell_type": "code",
   "execution_count": 11,
   "metadata": {
    "scrolled": true
   },
   "outputs": [
    {
     "name": "stderr",
     "output_type": "stream",
     "text": [
      "C:\\Users\\pavan\\anaconda3\\lib\\site-packages\\xgboost\\sklearn.py:888: UserWarning: The use of label encoder in XGBClassifier is deprecated and will be removed in a future release. To remove this warning, do the following: 1) Pass option use_label_encoder=False when constructing XGBClassifier object; and 2) Encode your labels (y) as integers starting with 0, i.e. 0, 1, 2, ..., [num_class - 1].\n",
      "  warnings.warn(label_encoder_deprecation_msg, UserWarning)\n"
     ]
    },
    {
     "name": "stdout",
     "output_type": "stream",
     "text": [
      "[21:09:04] WARNING: C:/Users/Administrator/workspace/xgboost-win64_release_1.3.0/src/learner.cc:1061: Starting in XGBoost 1.3.0, the default evaluation metric used with the objective 'multi:softprob' was changed from 'merror' to 'mlogloss'. Explicitly set eval_metric if you'd like to restore the old behavior.\n"
     ]
    }
   ],
   "source": [
    "from sklearn.metrics import roc_curve,auc\n",
    "import matplotlib.pyplot as plt\n",
    "# Best parameters\n",
    "max_depth_ = 15\n",
    "n_estimators = 150\n",
    "\n",
    "lgbmclassifier=XGBClassifier(max_depth=max_depth_,n_estimators=n_estimators)\n",
    "lgbmclassifier.fit(x_train, y_train)\n",
    "\n",
    "y_train_pred = lgbmclassifier.predict_proba(x_train)   \n",
    "y_test_pred= lgbmclassifier.predict_proba(x_test)"
   ]
  },
  {
   "cell_type": "code",
   "execution_count": null,
   "metadata": {},
   "outputs": [],
   "source": [
    "plt.figure(figsize=(10,5))\n",
    "sns.heatmap(cm_df, annot=True,fmt=\"d\")\n",
    "plt.title('Confusion Matrix')\n",
    "plt.ylabel('Actal Values')\n",
    "plt.xlabel('Predicted Values')\n",
    "plt.show()\n",
    "\n",
    "cr = classification_report(y_test,y_predict_test,labels=['Fully Denied', 'Fully Paid', 'Partially Denied'])\n",
    "print(cr)"
   ]
  },
  {
   "cell_type": "code",
   "execution_count": 108,
   "metadata": {},
   "outputs": [],
   "source": [
    "# we are writing our own function for predict, with defined thresould\n",
    "# we will pick a threshold that will give the least fpr\n",
    "def find_best_threshold(threshould, fpr, tpr):\n",
    "    t = threshould[np.argmax(tpr*(1-fpr))]\n",
    "    # (tpr*(1-fpr)) will be maximum if your fpr is very low and tpr is very high\n",
    "    print(\"the maximum value of tpr*(1-fpr)\", max(tpr*(1-fpr)), \"for threshold\", np.round(t,3))\n",
    "    return t\n",
    "\n",
    "def predict_with_best_t(proba, threshould):\n",
    "    predictions = []\n",
    "    for i in proba:\n",
    "        if i>=threshould:\n",
    "            predictions.append(1)\n",
    "        else:\n",
    "            predictions.append(0)\n",
    "    return predictions"
   ]
  },
  {
   "cell_type": "code",
   "execution_count": 109,
   "metadata": {},
   "outputs": [
    {
     "name": "stdout",
     "output_type": "stream",
     "text": [
      "====================================================================================================\n",
      "the maximum value of tpr*(1-fpr) 0.6529114473699247 for threshold 0.818\n",
      "Train confusion matrix\n"
     ]
    },
    {
     "data": {
      "text/html": [
       "<div>\n",
       "<style scoped>\n",
       "    .dataframe tbody tr th:only-of-type {\n",
       "        vertical-align: middle;\n",
       "    }\n",
       "\n",
       "    .dataframe tbody tr th {\n",
       "        vertical-align: top;\n",
       "    }\n",
       "\n",
       "    .dataframe thead th {\n",
       "        text-align: right;\n",
       "    }\n",
       "</style>\n",
       "<table border=\"1\" class=\"dataframe\">\n",
       "  <thead>\n",
       "    <tr style=\"text-align: right;\">\n",
       "      <th></th>\n",
       "      <th>Predicted Negative Class</th>\n",
       "      <th>Predicted Positive Class</th>\n",
       "    </tr>\n",
       "  </thead>\n",
       "  <tbody>\n",
       "    <tr>\n",
       "      <th>Actual Negative Class</th>\n",
       "      <td>8869</td>\n",
       "      <td>2214</td>\n",
       "    </tr>\n",
       "    <tr>\n",
       "      <th>Actual Positive Class</th>\n",
       "      <td>11435</td>\n",
       "      <td>50678</td>\n",
       "    </tr>\n",
       "  </tbody>\n",
       "</table>\n",
       "</div>"
      ],
      "text/plain": [
       "                       Predicted Negative Class  Predicted Positive Class\n",
       "Actual Negative Class                      8869                      2214\n",
       "Actual Positive Class                     11435                     50678"
      ]
     },
     "execution_count": 109,
     "metadata": {},
     "output_type": "execute_result"
    }
   ],
   "source": [
    "print(\"=\"*100)\n",
    "from seaborn import heatmap\n",
    "from sklearn.metrics import confusion_matrix\n",
    "best_t1 = find_best_threshold(thresholds_tr1, fpr_tr1, tpr_tr1)\n",
    "print(\"Train confusion matrix\")\n",
    "pd.DataFrame(confusion_matrix(y_train, predict_with_best_t(y_train_pred1[:,1], best_t1)),index=['Actual Negative Class','Actual Positive Class'],columns=['Predicted Negative Class','Predicted Positive Class'])\n"
   ]
  },
  {
   "cell_type": "code",
   "execution_count": 129,
   "metadata": {},
   "outputs": [
    {
     "name": "stdout",
     "output_type": "stream",
     "text": [
      "====================================================================================================\n",
      "the maximum value of tpr*(1-fpr) 0.43338472014381035 for threshold 0.856\n",
      "Test confusion matrix\n"
     ]
    },
    {
     "data": {
      "text/html": [
       "<div>\n",
       "<style scoped>\n",
       "    .dataframe tbody tr th:only-of-type {\n",
       "        vertical-align: middle;\n",
       "    }\n",
       "\n",
       "    .dataframe tbody tr th {\n",
       "        vertical-align: top;\n",
       "    }\n",
       "\n",
       "    .dataframe thead th {\n",
       "        text-align: right;\n",
       "    }\n",
       "</style>\n",
       "<table border=\"1\" class=\"dataframe\">\n",
       "  <thead>\n",
       "    <tr style=\"text-align: right;\">\n",
       "      <th></th>\n",
       "      <th>Predicted Negative Class</th>\n",
       "      <th>Predicted Positive Class</th>\n",
       "    </tr>\n",
       "  </thead>\n",
       "  <tbody>\n",
       "    <tr>\n",
       "      <th>Actual Negative Class</th>\n",
       "      <td>3669</td>\n",
       "      <td>1790</td>\n",
       "    </tr>\n",
       "    <tr>\n",
       "      <th>Actual Positive Class</th>\n",
       "      <td>10866</td>\n",
       "      <td>19727</td>\n",
       "    </tr>\n",
       "  </tbody>\n",
       "</table>\n",
       "</div>"
      ],
      "text/plain": [
       "                       Predicted Negative Class  Predicted Positive Class\n",
       "Actual Negative Class                      3669                      1790\n",
       "Actual Positive Class                     10866                     19727"
      ]
     },
     "execution_count": 129,
     "metadata": {},
     "output_type": "execute_result"
    }
   ],
   "source": [
    "print(\"=\"*100)\n",
    "from seaborn import heatmap\n",
    "from sklearn.metrics import confusion_matrix\n",
    "best_t1 = find_best_threshold(thresholds_te1, fpr_te1, tpr_te1)\n",
    "print(\"Test confusion matrix\")\n",
    "pd.DataFrame(confusion_matrix(y_test, predict_with_best_t(y_test_pred1[:,1], best_t1)),index=['Actual Negative Class','Actual Positive Class'],columns=['Predicted Negative Class','Predicted Positive Class'])\n"
   ]
  },
  {
   "cell_type": "code",
   "execution_count": 35,
   "metadata": {},
   "outputs": [],
   "source": []
  },
  {
   "cell_type": "code",
   "execution_count": 37,
   "metadata": {},
   "outputs": [],
   "source": []
  },
  {
   "cell_type": "code",
   "execution_count": 38,
   "metadata": {},
   "outputs": [],
   "source": []
  },
  {
   "cell_type": "code",
   "execution_count": 39,
   "metadata": {},
   "outputs": [],
   "source": []
  },
  {
   "cell_type": "code",
   "execution_count": null,
   "metadata": {},
   "outputs": [],
   "source": []
  }
 ],
 "metadata": {
  "kernelspec": {
   "display_name": "Python 3",
   "language": "python",
   "name": "python3"
  },
  "language_info": {
   "codemirror_mode": {
    "name": "ipython",
    "version": 3
   },
   "file_extension": ".py",
   "mimetype": "text/x-python",
   "name": "python",
   "nbconvert_exporter": "python",
   "pygments_lexer": "ipython3",
   "version": "3.7.6"
  }
 },
 "nbformat": 4,
 "nbformat_minor": 5
}
